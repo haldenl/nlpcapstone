{
 "cells": [
  {
   "cell_type": "markdown",
   "metadata": {},
   "source": [
    "# Generating human 'attention' from source / summary input."
   ]
  },
  {
   "cell_type": "markdown",
   "metadata": {},
   "source": [
    "load the data"
   ]
  },
  {
   "cell_type": "code",
   "execution_count": 78,
   "metadata": {},
   "outputs": [
    {
     "name": "stdout",
     "output_type": "stream",
     "text": [
      "dict_keys(['p_gens', 'article_lst', 'abstract_str', 'decoded_lst', 'attn_dists'])\n"
     ]
    }
   ],
   "source": [
    "import json\n",
    "import random\n",
    "f = open('/Users/haldenl/nlpcapstone/data/attn_vis_data.json', 'r')\n",
    "data = json.load(f)\n",
    "\n",
    "print(data[0].keys())"
   ]
  },
  {
   "cell_type": "markdown",
   "metadata": {},
   "source": [
    "process"
   ]
  },
  {
   "cell_type": "code",
   "execution_count": 79,
   "metadata": {},
   "outputs": [],
   "source": [
    "import spacy\n",
    "nlp = spacy.load('en_core_web_lg')"
   ]
  },
  {
   "cell_type": "code",
   "execution_count": 80,
   "metadata": {},
   "outputs": [],
   "source": [
    "import numpy as np\n",
    "np.set_printoptions(threshold=np.inf)\n"
   ]
  },
  {
   "cell_type": "markdown",
   "metadata": {},
   "source": [
    "softmax function, from @nolanbconaway"
   ]
  },
  {
   "cell_type": "code",
   "execution_count": 81,
   "metadata": {},
   "outputs": [],
   "source": [
    "def softmax(X, theta = 1.0, axis = None):\n",
    "    \"\"\"\n",
    "    Compute the softmax of each element along an axis of X.\n",
    "\n",
    "    Parameters\n",
    "    ----------\n",
    "    X: ND-Array. Probably should be floats. \n",
    "    theta (optional): float parameter, used as a multiplier\n",
    "        prior to exponentiation. Default = 1.0\n",
    "    axis (optional): axis to compute values along. Default is the \n",
    "        first non-singleton axis.\n",
    "\n",
    "    Returns an array the same size as X. The result will sum to 1\n",
    "    along the specified axis.\n",
    "    \"\"\"\n",
    "\n",
    "    # make X at least 2d\n",
    "    y = np.atleast_2d(X)\n",
    "\n",
    "    # find axis\n",
    "    if axis is None:\n",
    "        axis = next(j[0] for j in enumerate(y.shape) if j[1] > 1)\n",
    "\n",
    "    # multiply y against the theta parameter, \n",
    "    y = y * float(theta)\n",
    "\n",
    "    # subtract the max for numerical stability\n",
    "    y = y - np.expand_dims(np.max(y, axis = axis), axis)\n",
    "\n",
    "    # exponentiate y\n",
    "    y = np.exp(y)\n",
    "\n",
    "    # take the sum along the specified axis\n",
    "    ax_sum = np.expand_dims(np.sum(y, axis = axis), axis)\n",
    "\n",
    "    # finally: divide elementwise\n",
    "    p = y / ax_sum\n",
    "\n",
    "    # flatten if X was 1D\n",
    "    if len(X.shape) == 1: p = p.flatten()\n",
    "\n",
    "    return p"
   ]
  },
  {
   "cell_type": "markdown",
   "metadata": {},
   "source": [
    "### Calculates the similarity betweens sentences in article and summary (softmaxed)"
   ]
  },
  {
   "cell_type": "code",
   "execution_count": 102,
   "metadata": {},
   "outputs": [],
   "source": [
    "def getSentenceSimilarities(article_sentences, human_sentences):\n",
    "    sentence_similarities = np.zeros([len(human_sentences), len(article_sentences)])\n",
    "    \n",
    "    \n",
    "    for human_index, human_sent in enumerate(human_sentences):\n",
    "        for article_index, article_sent in enumerate(article_sentences):\n",
    "            a_sent = article_sent\n",
    "            h_sent = human_sent\n",
    "            \n",
    "            similarity = h_sent.similarity(a_sent)\n",
    "            sentence_similarities[human_index][article_index] = similarity\n",
    "        \n",
    "    sentence_similarities = softmax(sentence_similarities, theta=50, axis=1)\n",
    "    return sentence_similarities\n",
    "    "
   ]
  },
  {
   "cell_type": "markdown",
   "metadata": {},
   "source": [
    "### Calculates 'attention' weights between article and summary"
   ]
  },
  {
   "cell_type": "code",
   "execution_count": 103,
   "metadata": {},
   "outputs": [],
   "source": [
    "def getWeights(article, human):\n",
    "    weights = np.zeros([len(human), len(article)])\n",
    "    \n",
    "    article_sentences = list(article.sents)\n",
    "    human_sentences = list(human.sents)\n",
    "        \n",
    "    sentence_similarities = getSentenceSimilarities(article_sentences, human_sentences)\n",
    "    \n",
    "    count = 0\n",
    "    human_rows = {}\n",
    "    for human_index, human_sent in enumerate(human_sentences):\n",
    "        human_rows[human_index] = {}\n",
    "        for human_tok_index, human_token in enumerate(human_sent):\n",
    "            human_rows[human_index][human_tok_index] = count\n",
    "            count += 1\n",
    "            \n",
    "    count = 0\n",
    "    article_columns = {}\n",
    "    for article_index, article_sent in enumerate(article_sentences):\n",
    "        article_columns[article_index] = {}\n",
    "        for article_tok_index, article_token in enumerate(article_sent):\n",
    "            article_columns[article_index][article_tok_index] = count\n",
    "            count += 1\n",
    "    \n",
    "    for human_index, human_sent in enumerate(human_sentences):\n",
    "        human_sent = nlp(human_sent.text)\n",
    "        \n",
    "        for article_index, article_sent in enumerate(article_sentences):\n",
    "            article_sent = nlp(article_sent.text)\n",
    "        \n",
    "            sentence_sim = sentence_similarities[human_index][article_index]\n",
    "            \n",
    "            for human_tok_index, human_token in enumerate(human_sent):\n",
    "                count += 1\n",
    "                for article_tok_index, article_token in enumerate(article_sent):\n",
    "                    similarity = 0\n",
    "                    if (len(human_token.text) == 1 or len(article_token.text) == 1):\n",
    "                        similarity = 0.1 * random.random()\n",
    "                    else:\n",
    "                        similarity = human_token.similarity(article_token)\n",
    "                        \n",
    "                        \n",
    "                    weight = sentence_sim * similarity\n",
    "    \n",
    "                    row = human_rows[human_index][human_tok_index]\n",
    "                    column = article_columns[article_index][article_tok_index]\n",
    "                    weights[row][column] = weight                  \n",
    "                  \n",
    "    weights = softmax(weights, theta=100, axis=1)\n",
    "    \n",
    "    return weights"
   ]
  },
  {
   "cell_type": "code",
   "execution_count": 104,
   "metadata": {},
   "outputs": [],
   "source": [
    "article_str=\"(CNN)Five Muslim women stand tall in a boxing ring, slowly winding strapping around their hands. A spotlight is trained on them and the audience draws close, hanging on their every word. \\\"How can we be truthful if we have to hide out of shame, feel humiliated for feeling, for saying, doing, thinking as we please? How can that be freedom, how can that be truth?\\\" Performed at Southbank Centre's WOW -- Women of the World Festival -- Common Wealth Theatre's \\\"No Guts, No Heart, No Glory,\\\" tells the true story of Muslim female boxers from Bradford in the north of England, and how they are using the sport to transcend religious and gender barriers. The critically acclaimed show -- in which the women stamp, dance, shout, swear, punch, and even crowd surf -- was partly inspired by Ambreen Sadiq, a former UK national champion, and one of Britain's first Muslim female boxers. Her journey to success wasn't easy -- as a victim of bullying at the age of 13 she found respite in boxing after being introduced to it by her father and brother. \\\"I got bullied quite a lot growing up, my dad's Pakistani and my mum's Portuguese,\\\" Sadiq told CNN. \\\"I got stick from both sides, from white and black people. I felt like I wasn't accepted. I used to move schools so many times just to feel accepted. \\\"People would stay stuff about how I looked... everyone said that's a boy's sport, what are you doing that for? You're going to look like a man, like a transsexual. \\\"I was bullied from such a young age, I felt like it was never going to stop. Boxing helped me to control that anger.\\\" It was a transformative experience for Sadiq -- she went from being quiet, having few friends and getting into fights to plucking up courage to start conversations, and thereby build self confidence. \\\"Instead of punching someone in the face I'd punch the bag,\\\" she added. \\\"If anyone came up to me and said anything I could just walk away from it -- whereas before I'd just straight punch them in the face or something. So it's helped me a lot with discipline.\\\" It's sometimes hard to imagine Sadiq as a boxer -- her movements are calm and assured, and a kind smile is never far from her lips. \\\"Boxing has made me the person I am today, and I'm so proud of the person I am,\\\" said the 20-year-old trailblazer, who is now looked up to by girls from all kinds of communities wanting to follow in her footsteps. \\\"I've had a lot of girls -- not just Asian girls -- coming up to me and asking, how do you stop people saying it's a boy's sport? How can you convince your parents to let you box?\\\" While boxing for many is just a sport -- albeit a violent one -- when it comes to women and Muslims participating it can feel more like a cause, with Sadiq often finding herself explaining her motivation to girls. \\\"What's the difference if a boy boxes or if a girl boxes? When we're in that ring we look like boxers -- we don't look like a girl or a boy. \\\"You come into that gym, you come into that show, you come into that ring thinking I'm a boxer, not that I'm a girl or I'm a boy.\\\" The role of Nicola Adams -- the first ever female boxer to win an Olympic gold medal -- has also been key in the fight for acceptance. Sadiq tells the story of how several years ago her coach Alwyn Belcher, who also worked with Adams, originally refused to train women -- that is, until he turned up to coach the GB team (believing they'd be men) only to find an enthusiastic bunch of women ready to work. \\\"That's the day he met Nicola Adams,\\\" recalls Sadiq with a laugh. \\\"He said from that day he thought girls were better boxers -- because they like to listen.\\\" Since Adams' success at the Olympic Games, females boxing once a week increased by 79% according to a 2013 Sport England study, but even the production of \\\"No Guts, No Heart, No Glory\\\" highlighted the barriers women potentially face. Cast member and aspiring medical student Freyaa Ali said there was a girl who had wanted to participate in the show, but was ultimately prevented from doing so by her relatives. \\\"It wasn't even the boxing and it wasn't even the speech, it was the dancing we do in the ring. I'm incredibly lucky to be able to do this, and I was just so sad for her. You know there are certain women out there who can't do what we're doing right now.\\\" \\\"I think that's what makes me even more passionate about doing this -- we want to give them a voice and give them a reason, so they know they can have confidence to do stuff like this.\\\" If women do feel restricted by their religion or gender, Ali urged them to take things step by step. \\\"Go for it, just go for it. I think maybe talk to your parents first, and just tell them Mum, Dad, this is what I want to do, I want to box, I want to dance, I want to act, or whatever she wants to do. \\\"Tell them, you know what? Its OK what I'm doing, I'm not going to be going out of my boundaries and doing bad things, I'm going to stick to my limits and stick to my religion, it's not harming anyone. \\\"My parents would say, if you're happy, we're happy. I think anyone's parents would say that wouldn't they? \\\"The first step is trying it and opening that door. Once you can open it an inch you can open it a mile.\\\"\"\n",
    "human_str=\"\\\"No Guts, No Heart, No Glory\\\" is a play by Common Wealth Theatre that tells the true story of Muslim female boxers The performance was partly inspired by former UK national champion Ambreen Sadiq who experienced bullying and discrimination \\\"We want to give them a voice and give them a reason, so they know they can have confidence\\\" says cast member Freyaa Ali about girls in boxing\"\n"
   ]
  },
  {
   "cell_type": "code",
   "execution_count": null,
   "metadata": {},
   "outputs": [],
   "source": [
    "article = nlp(article_str.lower())  \n",
    "human = nlp(human_str.lower())\n",
    "\n",
    "weights = getWeights(article, human)\n",
    "\n",
    "attentionRecords = []\n",
    "inputRecords = []\n",
    "outputRecords = []\n",
    "\n",
    "for human_index, human_token in enumerate(human):\n",
    "    for article_index, article_token in enumerate(article):\n",
    "        \n",
    "        attn_weight = weights[human_index][article_index]\n",
    "                \n",
    "        attentionRecords.append({\n",
    "            'inputIndex': article_index,\n",
    "            'outputIndex': human_index,\n",
    "            'weight': attn_weight\n",
    "        })\n",
    "        \n",
    "for human_index, human_token in enumerate(human):\n",
    "    outputRecords.append({\n",
    "        'index': human_index,\n",
    "        'token': human_token.text\n",
    "    })\n",
    "    \n",
    "for article_index, article_token in enumerate(article):\n",
    "    inputRecords.append({\n",
    "        'index': article_index,\n",
    "        'token': article_token.text\n",
    "    })\n",
    "            \n",
    "output = {\n",
    "    'attentionRecords': attentionRecords,\n",
    "    'inputTokens': inputRecords,\n",
    "    'outputTokens': outputRecords\n",
    "}\n",
    "\n",
    "with open('/Users/haldenl/nlpcapstone/data/hierarchical_similarity_data_{0}.json'.format('women'), 'w') as out:\n",
    "    json.dump(output, out, indent=2)\n"
   ]
  },
  {
   "cell_type": "code",
   "execution_count": null,
   "metadata": {},
   "outputs": [],
   "source": []
  },
  {
   "cell_type": "code",
   "execution_count": null,
   "metadata": {},
   "outputs": [],
   "source": []
  }
 ],
 "metadata": {
  "kernelspec": {
   "display_name": "Python 3",
   "language": "python",
   "name": "python3"
  },
  "language_info": {
   "codemirror_mode": {
    "name": "ipython",
    "version": 3
   },
   "file_extension": ".py",
   "mimetype": "text/x-python",
   "name": "python",
   "nbconvert_exporter": "python",
   "pygments_lexer": "ipython3",
   "version": "3.6.3"
  }
 },
 "nbformat": 4,
 "nbformat_minor": 2
}
