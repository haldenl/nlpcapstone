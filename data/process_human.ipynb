{
 "cells": [
  {
   "cell_type": "markdown",
   "metadata": {},
   "source": [
    "# Generating human 'attention' from source / summary input."
   ]
  },
  {
   "cell_type": "markdown",
   "metadata": {},
   "source": [
    "load the data"
   ]
  },
  {
   "cell_type": "code",
   "execution_count": 5,
   "metadata": {},
   "outputs": [
    {
     "name": "stdout",
     "output_type": "stream",
     "text": [
      "dict_keys(['p_gens', 'article_lst', 'abstract_str', 'decoded_lst', 'attn_dists'])\n"
     ]
    }
   ],
   "source": [
    "import json\n",
    "f = open('/Users/haldenl/nlpcapstone/data/attn_vis_data.json', 'r')\n",
    "data = json.load(f)\n",
    "\n",
    "print(data[0].keys())"
   ]
  },
  {
   "cell_type": "markdown",
   "metadata": {},
   "source": [
    "process"
   ]
  },
  {
   "cell_type": "code",
   "execution_count": 6,
   "metadata": {},
   "outputs": [],
   "source": [
    "import spacy\n",
    "nlp = spacy.load('en_core_web_lg')"
   ]
  },
  {
   "cell_type": "code",
   "execution_count": 7,
   "metadata": {},
   "outputs": [],
   "source": [
    "import numpy as np\n",
    "np.set_printoptions(threshold=np.inf)\n"
   ]
  },
  {
   "cell_type": "markdown",
   "metadata": {},
   "source": [
    "softmax function, from @nolanbconaway"
   ]
  },
  {
   "cell_type": "code",
   "execution_count": 8,
   "metadata": {},
   "outputs": [],
   "source": [
    "def softmax(X, theta = 1.0, axis = None):\n",
    "    \"\"\"\n",
    "    Compute the softmax of each element along an axis of X.\n",
    "\n",
    "    Parameters\n",
    "    ----------\n",
    "    X: ND-Array. Probably should be floats. \n",
    "    theta (optional): float parameter, used as a multiplier\n",
    "        prior to exponentiation. Default = 1.0\n",
    "    axis (optional): axis to compute values along. Default is the \n",
    "        first non-singleton axis.\n",
    "\n",
    "    Returns an array the same size as X. The result will sum to 1\n",
    "    along the specified axis.\n",
    "    \"\"\"\n",
    "\n",
    "    # make X at least 2d\n",
    "    y = np.atleast_2d(X)\n",
    "\n",
    "    # find axis\n",
    "    if axis is None:\n",
    "        axis = next(j[0] for j in enumerate(y.shape) if j[1] > 1)\n",
    "\n",
    "    # multiply y against the theta parameter, \n",
    "    y = y * float(theta)\n",
    "\n",
    "    # subtract the max for numerical stability\n",
    "    y = y - np.expand_dims(np.max(y, axis = axis), axis)\n",
    "\n",
    "    # exponentiate y\n",
    "    y = np.exp(y)\n",
    "\n",
    "    # take the sum along the specified axis\n",
    "    ax_sum = np.expand_dims(np.sum(y, axis = axis), axis)\n",
    "\n",
    "    # finally: divide elementwise\n",
    "    p = y / ax_sum\n",
    "\n",
    "    # flatten if X was 1D\n",
    "    if len(X.shape) == 1: p = p.flatten()\n",
    "\n",
    "    return p"
   ]
  },
  {
   "cell_type": "markdown",
   "metadata": {},
   "source": [
    "### Calculates the similarity betweens sentences in article and summary (softmaxed)"
   ]
  },
  {
   "cell_type": "code",
   "execution_count": 9,
   "metadata": {},
   "outputs": [],
   "source": [
    "def getSentenceSimilarities(article_sentences, human_sentences):\n",
    "    sentence_similarities = np.zeros([len(human_sentences), len(article_sentences)])\n",
    "    \n",
    "    \n",
    "    for human_index, human_sent in enumerate(human_sentences):\n",
    "        for article_index, article_sent in enumerate(article_sentences):\n",
    "            a_sent = article_sent\n",
    "            h_sent = human_sent\n",
    "            \n",
    "            similarity = h_sent.similarity(a_sent)\n",
    "            sentence_similarities[human_index][article_index] = similarity\n",
    "        \n",
    "    sentence_similarities = softmax(sentence_similarities, theta=20, axis=1)\n",
    "    return sentence_similarities\n",
    "    "
   ]
  },
  {
   "cell_type": "markdown",
   "metadata": {},
   "source": [
    "### Calculates 'attention' weights between article and summary"
   ]
  },
  {
   "cell_type": "code",
   "execution_count": 10,
   "metadata": {},
   "outputs": [],
   "source": [
    "def getWeights(article, human):\n",
    "    weights = np.zeros([len(human), len(article)])\n",
    "    \n",
    "    article_sentences = list(article.sents)\n",
    "    human_sentences = list(human.sents)\n",
    "        \n",
    "    sentence_similarities = getSentenceSimilarities(article_sentences, human_sentences)\n",
    "    \n",
    "    count = 0\n",
    "    human_rows = {}\n",
    "    for human_index, human_sent in enumerate(human_sentences):\n",
    "        human_rows[human_index] = {}\n",
    "        for human_tok_index, human_token in enumerate(human_sent):\n",
    "            human_rows[human_index][human_tok_index] = count\n",
    "            count += 1\n",
    "            \n",
    "    count = 0\n",
    "    article_columns = {}\n",
    "    for article_index, article_sent in enumerate(article_sentences):\n",
    "        article_columns[article_index] = {}\n",
    "        for article_tok_index, article_token in enumerate(article_sent):\n",
    "            article_columns[article_index][article_tok_index] = count\n",
    "            count += 1\n",
    "    \n",
    "    for human_index, human_sent in enumerate(human_sentences):\n",
    "        human_sent = nlp(human_sent.text)\n",
    "        \n",
    "        for article_index, article_sent in enumerate(article_sentences):\n",
    "            article_sent = nlp(article_sent.text)\n",
    "        \n",
    "            sentence_sim = sentence_similarities[human_index][article_index]\n",
    "            \n",
    "            for human_tok_index, human_token in enumerate(human_sent):\n",
    "                count += 1\n",
    "                for article_tok_index, article_token in enumerate(article_sent):\n",
    "                    similarity = 0\n",
    "                    if (len(human_token.text) == 1 or len(article_token.text) == 1):\n",
    "                        similarity = 0\n",
    "                    else:\n",
    "                        similarity = human_token.similarity(article_token)\n",
    "                        \n",
    "                        \n",
    "                    weight = sentence_sim * similarity\n",
    "    \n",
    "                    row = human_rows[human_index][human_tok_index]\n",
    "                    column = article_columns[article_index][article_tok_index]\n",
    "                    weights[row][column] = sentence_sim                  \n",
    "                  \n",
    "    weights = softmax(weights, theta=100, axis=1)\n",
    "    \n",
    "    return weights"
   ]
  },
  {
   "cell_type": "code",
   "execution_count": 11,
   "metadata": {},
   "outputs": [],
   "source": [
    "article_str=\"It's complicated, but there I was in a Sandals resort in Grenada, not with my wife Gillian but with my best friend from university, Charlotte Metcalf. By coincidence we had pitched up together to review the 14th in the Sandals chain. Neither of us had been before, but Couples Only? Weddings on the beach? Charlotte and I, both hard-bitten travellers, were set to sneer. Sandals La Source has 225 suites spread over three ‘villages’ in a small sandy bay. On arrival Ritchie, the manager, tells me his philosophy is ‘to give guests more than they expect’, and at first glance it’s hard to tell who’s happier – the 350 guests or the 500 staff. Certainly everyone appears to be grinning constantly, as if part of a cult - the Sandalistas. Among Sandals LaSource Grenada's 225 suites is the Skypool, with this stunning private infinity pool The three 'village' luxury all-inclusive resort hosts 350 guests with 500 staff Our personal butlers, trained by the Guild of Professional English Butlers, take us to our (separate) rooms. Charlotte’s giant suite features a black marble bath and a terrace with plunge pool and Jacuzzi. Meanwhile, I follow my butler, Marcus, up to my Oceanview Skypool Penthouse. Marcus hands me a mobile telephone and says: ‘Anything you need, I’m a phone call away.’ From my private infinity pool, I look out over the fort, and reflect on what I know about Grenada. It is mountainous, measuring just 12 miles by 21, with a population of 110,000, a high level of literacy and land ownership, and one of the lowest crime figures in the Caribbean. The island’s recent peaceful history has emerged from two tempests. One was a natural phenomenon, Hurricane Ivan, that struck in September 2004 and destroyed 85 per cent of houses and vegetation, including Grenada’s precious nutmeg trees. Sandals La Source is situated on a sandy bay on mountainous Grenada, an island just 12 by 21 miles Among the resort's shared facilities is three freshwater swimming pools including this in the 'Pink Gin' village The second was political: the 1983 Marxist coup in which Prime Minister Maurice Bishop was killed – a move that prompted Ronald Reagan to land 6,000 US troops on what was part of the Commonwealth. My father was a Foreign Office diplomat at the time, and he recalls meeting the Queen shortly after the invasion. She was furious. Charlotte and I find the scale of the resort overwhelming. There are nine restaurants, several bars, and even an English pub. After some fishing, during which I catch and release a 200lb blue marlin, I land an audience with the island’s popular Prime Minister. Dr Keith Mitchell greets us barefoot at his official residence, where we chat about Grenada’s future as an eco-tourist centre and its current peace and stability, which he ascribes to his people’s inherently cheerful nature. The Sandals resort occupies the heart of Grenada's exclusive Pink Gin Beach Writer Nicholas Shakespeare enjoys a pedalo ride with his friend Charlotte Metcalf The South Seas Butler Suite's living room opens up to a trellised veranda with a private plunge pool Back at La Source, Charlotte and I attend a beach ‘Re-Tie The Knot’ ceremony. Two couples, from Halifax and Leicester, both married for more than 20 years, arrive for a moving service conducted with palpable delight by Baptist pastor Stanford Simon, looking splendid in lime-green linen. Sandals (0800 597 0002) offers seven nights at Sandals LaSource Grenada Resort & Spa from £1,629pp. This includes Luxury Included (all-inclusive) accommodation in a South Seas Hideaway Junior Suite with Balcony Tranquility Soaking Tub, return flights from London and resort transfers. Valid for travel between September 1 and October 20, 2015. There are tears of joy as well as laughter as Karen and Jenny, both in full-length cream and carrying white orchids, walk up the jetty to a small pavilion hanging over the sea to repledge their love to husbands Phil and Kieron respectively. The staff are in white waistcoats and ties for the occasion. The couples have prepared statements to read to each other, giving thanks for the love and lives they share. It is the simplest, most genuine and therefore the most profoundly moving service I’ve been to… well, since my own wedding. Charlotte and I weep openly. Sandals is victorious – cynicism is slain.\"\n",
    "human_str=\"Sandals La Source in Grenada has 225 suites spread over three ‘villages’ Personal butlers are trained by the Guild of Professional English Butlers The resort in a small sandy bay has 500 staff tending to its 350 guests\""
   ]
  },
  {
   "cell_type": "code",
   "execution_count": 12,
   "metadata": {},
   "outputs": [],
   "source": [
    "article = nlp(article_str)  \n",
    "human = nlp(human_str)\n",
    "\n",
    "weights = getWeights(article, human)\n",
    "\n",
    "attentionRecords = []\n",
    "inputRecords = []\n",
    "outputRecords = []\n",
    "\n",
    "for human_index, human_token in enumerate(human):\n",
    "    for article_index, article_token in enumerate(article):\n",
    "        \n",
    "        attn_weight = weights[human_index][article_index]\n",
    "                \n",
    "        attentionRecords.append({\n",
    "            'inputIndex': article_index,\n",
    "            'outputIndex': human_index,\n",
    "            'weight': attn_weight\n",
    "        })\n",
    "        \n",
    "for human_index, human_token in enumerate(human):\n",
    "    outputRecords.append({\n",
    "        'index': human_index,\n",
    "        'token': human_token.text\n",
    "    })\n",
    "    \n",
    "for article_index, article_token in enumerate(article):\n",
    "    inputRecords.append({\n",
    "        'index': article_index,\n",
    "        'token': article_token.text\n",
    "    })\n",
    "            \n",
    "output = {\n",
    "    'attentionRecords': attentionRecords,\n",
    "    'inputTokens': inputRecords,\n",
    "    'outputTokens': outputRecords\n",
    "}\n",
    "\n",
    "with open('/Users/haldenl/nlpcapstone/data/hierarchical_similarity_data_{0}.json'.format(0), 'w') as out:\n",
    "    json.dump(output, out, indent=2)\n"
   ]
  },
  {
   "cell_type": "code",
   "execution_count": null,
   "metadata": {},
   "outputs": [],
   "source": []
  },
  {
   "cell_type": "code",
   "execution_count": null,
   "metadata": {},
   "outputs": [],
   "source": []
  }
 ],
 "metadata": {
  "kernelspec": {
   "display_name": "Python 3",
   "language": "python",
   "name": "python3"
  },
  "language_info": {
   "codemirror_mode": {
    "name": "ipython",
    "version": 3
   },
   "file_extension": ".py",
   "mimetype": "text/x-python",
   "name": "python",
   "nbconvert_exporter": "python",
   "pygments_lexer": "ipython3",
   "version": "3.6.3"
  }
 },
 "nbformat": 4,
 "nbformat_minor": 2
}
